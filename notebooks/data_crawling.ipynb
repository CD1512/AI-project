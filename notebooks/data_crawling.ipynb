{
 "cells": [
  {
   "cell_type": "code",
   "execution_count": null,
   "id": "63fb54fe",
   "metadata": {},
   "outputs": [],
   "source": [
    "import time \n",
    "import pandas as pd\n",
    "from selenium import webdriver\n",
    "from selenium.webdriver.chrome.service import Service\n",
    "from selenium.webdriver.common.by import By\n",
    "from selenium.webdriver.support.ui import WebDriverWait\n",
    "from selenium.webdriver.support import expected_conditions as EC\n",
    "from bs4 import BeautifulSoup\n",
    "\n",
    "Drive_path = '../chromedriver.exe'\n",
    "\n",
    "s = Service(executable_path=Drive_path)\n",
    "\n",
    "driver = webdriver.Chrome(service=s)\n",
    "\n",
    "url = 'https://www.thegioididong.com/dtdd/iphone-15-pro-max/danh-gia'\n",
    "all_scraped_comment = []\n",
    "total_pages = 14\n",
    "\n",
    "for page_num in range(1, total_pages + 1):\n",
    "    current_url = url if page_num == 1 else f\"{url}?p={page_num}\"\n",
    "    driver.get(current_url)\n",
    "    \n",
    "    try:\n",
    "        WebDriverWait(driver, 10).until(\n",
    "            EC.presence_of_element_located((By.CSS_SELECTOR, \"ul.comment-list li.par\"))\n",
    "        )\n",
    "    except:\n",
    "        print(f\"Trang {page_num} không load được bình luận.\")\n",
    "        continue\n",
    "\n",
    "    html_content = driver.page_source\n",
    "    soup = BeautifulSoup(html_content, \"html.parser\")\n",
    "    comments = soup.select(\"ul.comment-list li.par\")\n",
    "    \n",
    "    print(f\"Trang {page_num} tìm thấy {len(comments)} bình luận.\")\n",
    "\n",
    "    for c in comments:\n",
    "        user = c.find(\"p\", class_=\"cmt-top-name\")\n",
    "        text = c.find(\"p\", class_=\"cmt-txt\")\n",
    "        rating = len(c.find_all(\"i\", class_=\"iconcmt-starbuy\"))\n",
    "\n",
    "        if user and text:\n",
    "            all_scraped_comment.append({\n",
    "                \"user\": user.text.strip(),\n",
    "                \"comment_text\": text.text.strip(),\n",
    "                \"rating\": rating,\n",
    "                \"page_source\": page_num\n",
    "            })\n",
    "\n",
    "driver.quit()\n",
    "print(f\"Tổng số bình luận: {len(all_scraped_comment)}\")\n",
    "print(all_scraped_comment[:5])"
   ]
  },
  {
   "cell_type": "code",
   "execution_count": 19,
   "id": "1f77ad58",
   "metadata": {},
   "outputs": [
    {
     "name": "stdout",
     "output_type": "stream",
     "text": [
      "Stored successfully!\n"
     ]
    }
   ],
   "source": [
    "if len(all_scraped_comment) > 0:\n",
    "    df = pd.DataFrame(all_scraped_comment)\n",
    "    output_path = \"../data/raw/reviews.csv\"\n",
    "    df.to_csv(output_path, index=False, encoding='utf-8-sig')\n",
    "    print(f\"Stored successfully!\")"
   ]
  }
 ],
 "metadata": {
  "kernelspec": {
   "display_name": ".venv",
   "language": "python",
   "name": "python3"
  },
  "language_info": {
   "codemirror_mode": {
    "name": "ipython",
    "version": 3
   },
   "file_extension": ".py",
   "mimetype": "text/x-python",
   "name": "python",
   "nbconvert_exporter": "python",
   "pygments_lexer": "ipython3",
   "version": "3.12.0"
  }
 },
 "nbformat": 4,
 "nbformat_minor": 5
}
